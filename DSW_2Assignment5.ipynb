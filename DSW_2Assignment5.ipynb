{
 "cells": [
  {
   "cell_type": "code",
   "execution_count": 1,
   "id": "bda438c1-03aa-44d1-a47d-a5e441d2f767",
   "metadata": {},
   "outputs": [
    {
     "data": {
      "text/plain": [
       "0.5"
      ]
     },
     "execution_count": 1,
     "metadata": {},
     "output_type": "execute_result"
    }
   ],
   "source": [
    "from collections import Counter\n",
    "def gini_impurity(y):\n",
    "    counts=Counter(y)\n",
    "    impurity=1-sum([(count/len(y))**2 for count in counts.values()])\n",
    "    return impurity\n",
    "gini_impurity(['M','M','M','F','F','F'])"
   ]
  },
  {
   "cell_type": "code",
   "execution_count": 6,
   "id": "e1c247ac-6308-4cd5-b46e-36a1da73de5b",
   "metadata": {},
   "outputs": [
    {
     "data": {
      "text/html": [
       "<div>\n",
       "<style scoped>\n",
       "    .dataframe tbody tr th:only-of-type {\n",
       "        vertical-align: middle;\n",
       "    }\n",
       "\n",
       "    .dataframe tbody tr th {\n",
       "        vertical-align: top;\n",
       "    }\n",
       "\n",
       "    .dataframe thead th {\n",
       "        text-align: right;\n",
       "    }\n",
       "</style>\n",
       "<table border=\"1\" class=\"dataframe\">\n",
       "  <thead>\n",
       "    <tr style=\"text-align: right;\">\n",
       "      <th></th>\n",
       "      <th>Gender</th>\n",
       "      <th>Height</th>\n",
       "      <th>Weight</th>\n",
       "      <th>Index</th>\n",
       "    </tr>\n",
       "  </thead>\n",
       "  <tbody>\n",
       "    <tr>\n",
       "      <th>0</th>\n",
       "      <td>Male</td>\n",
       "      <td>174</td>\n",
       "      <td>96</td>\n",
       "      <td>4</td>\n",
       "    </tr>\n",
       "    <tr>\n",
       "      <th>1</th>\n",
       "      <td>Male</td>\n",
       "      <td>189</td>\n",
       "      <td>87</td>\n",
       "      <td>2</td>\n",
       "    </tr>\n",
       "    <tr>\n",
       "      <th>2</th>\n",
       "      <td>Female</td>\n",
       "      <td>185</td>\n",
       "      <td>110</td>\n",
       "      <td>4</td>\n",
       "    </tr>\n",
       "    <tr>\n",
       "      <th>3</th>\n",
       "      <td>Female</td>\n",
       "      <td>195</td>\n",
       "      <td>104</td>\n",
       "      <td>3</td>\n",
       "    </tr>\n",
       "    <tr>\n",
       "      <th>4</th>\n",
       "      <td>Male</td>\n",
       "      <td>149</td>\n",
       "      <td>61</td>\n",
       "      <td>3</td>\n",
       "    </tr>\n",
       "    <tr>\n",
       "      <th>...</th>\n",
       "      <td>...</td>\n",
       "      <td>...</td>\n",
       "      <td>...</td>\n",
       "      <td>...</td>\n",
       "    </tr>\n",
       "    <tr>\n",
       "      <th>495</th>\n",
       "      <td>Female</td>\n",
       "      <td>150</td>\n",
       "      <td>153</td>\n",
       "      <td>5</td>\n",
       "    </tr>\n",
       "    <tr>\n",
       "      <th>496</th>\n",
       "      <td>Female</td>\n",
       "      <td>184</td>\n",
       "      <td>121</td>\n",
       "      <td>4</td>\n",
       "    </tr>\n",
       "    <tr>\n",
       "      <th>497</th>\n",
       "      <td>Female</td>\n",
       "      <td>141</td>\n",
       "      <td>136</td>\n",
       "      <td>5</td>\n",
       "    </tr>\n",
       "    <tr>\n",
       "      <th>498</th>\n",
       "      <td>Male</td>\n",
       "      <td>150</td>\n",
       "      <td>95</td>\n",
       "      <td>5</td>\n",
       "    </tr>\n",
       "    <tr>\n",
       "      <th>499</th>\n",
       "      <td>Male</td>\n",
       "      <td>173</td>\n",
       "      <td>131</td>\n",
       "      <td>5</td>\n",
       "    </tr>\n",
       "  </tbody>\n",
       "</table>\n",
       "<p>500 rows × 4 columns</p>\n",
       "</div>"
      ],
      "text/plain": [
       "     Gender  Height  Weight  Index\n",
       "0      Male     174      96      4\n",
       "1      Male     189      87      2\n",
       "2    Female     185     110      4\n",
       "3    Female     195     104      3\n",
       "4      Male     149      61      3\n",
       "..      ...     ...     ...    ...\n",
       "495  Female     150     153      5\n",
       "496  Female     184     121      4\n",
       "497  Female     141     136      5\n",
       "498    Male     150      95      5\n",
       "499    Male     173     131      5\n",
       "\n",
       "[500 rows x 4 columns]"
      ]
     },
     "execution_count": 6,
     "metadata": {},
     "output_type": "execute_result"
    }
   ],
   "source": [
    "import numpy as np\n",
    "import pandas as pd \n",
    "import math\n",
    "df=pd.read_csv(\"C:\\\\Users\\\\abham\\\\Downloads\\\\data.csv\")\n",
    "df"
   ]
  },
  {
   "cell_type": "code",
   "execution_count": 7,
   "id": "4ef54b96-c0fa-4cc2-b051-3726147413b0",
   "metadata": {},
   "outputs": [],
   "source": [
    "if 'Index' in df.columns:\n",
    "    df['obese'] = df['Index'].apply(lambda x: 1 if x > 3 else 0)\n",
    "    df.drop(columns=['Index'], inplace=True)\n",
    "else:\n",
    "    print(\"Error: 'index' column not found in DataFrame.\")"
   ]
  },
  {
   "cell_type": "code",
   "execution_count": 8,
   "id": "8054e4fd-f7c8-4bd3-9913-be6763661d3c",
   "metadata": {},
   "outputs": [],
   "source": [
    "def compute_entropy(data,feature_col,split_value):\n",
    "    left_branch=data[data[feature_col]<=split_value]\n",
    "    right_branch=data[data[feature_col]>split_value]\n",
    "    total_samples=len(data)\n",
    "    def entropy(branch):\n",
    "        if len(branch)==0:\n",
    "            return 0\n",
    "        counts=Counter(branch['obese'])\n",
    "        impurity=-sum([(count/len(branch))*math.log2(count/len(branch)) for count in counts.values()])\n",
    "        return impurity\n",
    "    gini_left=entropy(left_branch)\n",
    "    gini_right=entropy(right_branch)\n",
    "    print(gini_left,gini_right)\n",
    "    weight_left=len(left_branch)/total_samples\n",
    "    weight_right=len(right_branch)/total_samples\n",
    "    weight_avg_gini=(weight_left*gini_left)+(weight_right*gini_right)\n",
    "    return weight_avg_gini"
   ]
  },
  {
   "cell_type": "code",
   "execution_count": 9,
   "id": "e5838c93-5fe4-4b0e-807c-5273b69a4eda",
   "metadata": {},
   "outputs": [
    {
     "name": "stdout",
     "output_type": "stream",
     "text": [
      "0.9400481779747517 0.9155506778147324\n"
     ]
    }
   ],
   "source": [
    "feature_column='Gender'\n",
    "split_value='Female'\n",
    "entropy_impurity=compute_entropy(df,feature_column,split_value)"
   ]
  },
  {
   "cell_type": "markdown",
   "id": "1c88c53b-37bd-422d-8f79-f448a9d8d2ea",
   "metadata": {},
   "source": [
    "8. Write an python program to calculate the entropy of a dataset if the dataset, a particular feature in the\n",
    "dataset and a value in that feature is given to you"
   ]
  },
  {
   "cell_type": "code",
   "execution_count": 16,
   "id": "d6fd2b6f-bfe9-4c40-8f1c-ebbbcfa81c41",
   "metadata": {},
   "outputs": [],
   "source": [
    "import pandas as pd\n",
    "import numpy as np\n",
    "\n",
    "def calculate_entropy(dataset, feature, value):\n",
    "    # Filter the dataset for rows where the feature equals the given value\n",
    "    subset = dataset[dataset[feature] == value]\n",
    "\n",
    "    # Calculate the proportions of each class in the subset\n",
    "    class_counts = subset['obese'].value_counts().values\n",
    "    class_proportions = class_counts / class_counts.sum()\n",
    "\n",
    " \n",
    "    entropy = -np.sum(class_proportions * np.log2(class_proportions))\n",
    "\n",
    "    return entropy\n"
   ]
  },
  {
   "cell_type": "code",
   "execution_count": 17,
   "id": "ff939aba-66c3-4094-a0a4-598ce6c6cc02",
   "metadata": {},
   "outputs": [
    {
     "name": "stdout",
     "output_type": "stream",
     "text": [
      "0.9400481779747517\n"
     ]
    }
   ],
   "source": [
    "feature_column='Gender'\n",
    "split_value='Female'\n",
    "en=calculate_entropy(df, feature_column, split_value)\n",
    "print(en)"
   ]
  },
  {
   "cell_type": "markdown",
   "id": "fd051dc3-f3d4-4b88-bf40-252c906204c7",
   "metadata": {},
   "source": [
    "11. Using the following dataset, find the final Cluster with initial centroid [1, 1] and [3, 3]"
   ]
  },
  {
   "cell_type": "code",
   "execution_count": 19,
   "id": "92957c66-d571-4b26-8b34-23b41a3ddd20",
   "metadata": {},
   "outputs": [
    {
     "name": "stdout",
     "output_type": "stream",
     "text": [
      "Final centroids: [[1.5 2. ]\n",
      " [4.4 2.8]]\n",
      "Cluster assignments: [0 0 0 0 1 1 1 1 1]\n"
     ]
    }
   ],
   "source": [
    "import numpy as np\n",
    "\n",
    "def kmeans(X, k, initial_centroids, max_iters):\n",
    "    centroids = initial_centroids\n",
    "    for _ in range(max_iters):\n",
    "        labels = np.argmin(np.sqrt(((X - centroids[:, np.newaxis])**2).sum(axis=2)), axis=0)\n",
    "        new_centroids = np.array([X[labels==i].mean(axis=0) for i in range(k)])\n",
    "        if np.all(centroids == new_centroids):\n",
    "            break\n",
    "        \n",
    "        centroids = new_centroids\n",
    "    \n",
    "    return centroids, labels\n",
    "X = np.array([[1, 1], [1, 2], [2, 2], [2, 3], [3, 4], [4, 4], [5, 1], [5, 2], [5, 3]])\n",
    "initial_centroids = np.array([[1, 1], [3, 3]])\n",
    "centroids, labels = kmeans(X, 2, initial_centroids, 100)\n",
    "print(\"Final centroids:\", centroids)\n",
    "print(\"Cluster assignments:\", labels)\n"
   ]
  },
  {
   "cell_type": "markdown",
   "id": "84193a26-c97b-4d05-a5ec-95286b7c1553",
   "metadata": {},
   "source": [
    "13.Consider the following dataset.\n",
    "Using the given dataset predict whether a B. Tech CSE student will get the job or not using Naive Bays algorithm, If the evaluation parameters are as follows: CGPA= High; Communication= Bad; Aptitude= High; Programming skills= Bad"
   ]
  },
  {
   "cell_type": "code",
   "execution_count": 20,
   "id": "1b127e07-eb1a-4b4b-acd5-350135b0cd18",
   "metadata": {},
   "outputs": [
    {
     "name": "stdout",
     "output_type": "stream",
     "text": [
      "Job offered: No\n"
     ]
    }
   ],
   "source": [
    "import pandas as pd\n",
    "from sklearn.preprocessing import LabelEncoder\n",
    "from sklearn.naive_bayes import GaussianNB\n",
    "\n",
    "\n",
    "data = {\n",
    "    'CGPA': ['High', 'Medium', 'Low', 'Low', 'High', 'High', 'Medium', 'Medium', 'High', 'High', 'High'],\n",
    "    'Communication': ['Good', 'Good', 'Bad', 'Good', 'Good', 'Good', 'Bad', 'Bad', 'Good', 'Good', 'Good'],\n",
    "    'Aptitude': ['High', 'High', 'Low', 'Low', 'High', 'High', 'Low', 'Low', 'High', 'High', 'Low'],\n",
    "    'Programming_skill': ['Good', 'Good', 'Good', 'Bad', 'Bad', 'Good', 'Bad', 'Good', 'Good', 'Good', 'Good'],\n",
    "    'Job_offered': ['Yes', 'Yes', 'Yes', 'No', 'Yes', 'Yes', 'No', 'No', 'Yes', 'No', 'Yes']\n",
    "}\n",
    "\n",
    "df = pd.DataFrame(data)\n",
    "\n",
    "\n",
    "le = LabelEncoder()\n",
    "df = df.apply(le.fit_transform)\n",
    "\n",
    "\n",
    "model = GaussianNB()\n",
    "\n",
    "\n",
    "features = df.drop('Job_offered', axis=1)\n",
    "target = df['Job_offered']\n",
    "model.fit(features, target)\n",
    "\n",
    "student = pd.DataFrame([{'CGPA': 'High', 'Communication': 'Bad', 'Aptitude': 'High', 'Programming_skill': 'Bad'}])\n",
    "student = student.apply(le.fit_transform)\n",
    "prediction = model.predict(student)\n",
    "\n",
    "print('Job offered:', 'Yes' if prediction[0] == 1 else 'No')\n"
   ]
  },
  {
   "cell_type": "markdown",
   "id": "bc3972a9-6ed8-43bf-a2d8-5bb0af431a96",
   "metadata": {},
   "source": [
    "17. Write the python code for finding closest centroid to a sample in k-means clustering"
   ]
  },
  {
   "cell_type": "code",
   "execution_count": 21,
   "id": "84db6e4d-1685-48fd-97bc-7a94cc106d32",
   "metadata": {},
   "outputs": [
    {
     "name": "stdout",
     "output_type": "stream",
     "text": [
      "[2 2]\n"
     ]
    }
   ],
   "source": [
    "import numpy as np\n",
    "\n",
    "def find_closest_centroid(sample, centroids):\n",
    "    distances = np.sqrt(((sample - centroids)**2).sum(axis=1))\n",
    "    closest_centroid_index = np.argmin(distances)\n",
    "    \n",
    "    \n",
    "    return centroids[closest_centroid_index]\n",
    "centroids = np.array([[1, 1], [2, 2], [3, 3]])\n",
    "sample = np.array([2.5, 2.5])\n",
    "print(find_closest_centroid(sample, centroids))\n"
   ]
  },
  {
   "cell_type": "code",
   "execution_count": null,
   "id": "f8806c36-62d7-4338-bda3-f0d26b5eb2f4",
   "metadata": {},
   "outputs": [],
   "source": []
  }
 ],
 "metadata": {
  "kernelspec": {
   "display_name": "Python 3 (ipykernel)",
   "language": "python",
   "name": "python3"
  },
  "language_info": {
   "codemirror_mode": {
    "name": "ipython",
    "version": 3
   },
   "file_extension": ".py",
   "mimetype": "text/x-python",
   "name": "python",
   "nbconvert_exporter": "python",
   "pygments_lexer": "ipython3",
   "version": "3.11.7"
  }
 },
 "nbformat": 4,
 "nbformat_minor": 5
}

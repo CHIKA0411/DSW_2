{
 "cells": [
  {
   "cell_type": "code",
   "execution_count": 3,
   "id": "07b16d36-f7ec-4d3f-aded-4df03ca3b842",
   "metadata": {},
   "outputs": [
    {
     "name": "stdout",
     "output_type": "stream",
     "text": [
      "[18.5  12.75 -2.   -3.  ]\n"
     ]
    }
   ],
   "source": [
    "import numpy as np\n",
    "\n",
    "def normal_equation(X, y):\n",
    "    X_b = np.hstack((np.ones((X.shape[0], 1)), X))\n",
    "    theta = np.linalg.inv(X_b.T.dot(X_b)).dot(X_b.T).dot(y)\n",
    "    \n",
    "    return theta\n",
    "X = np.array([[1, 2, 3], [4, 5, 6], [7, 8, 9]])\n",
    "y = np.array([2, 5, 8])\n",
    "theta = normal_equation(X, y)\n",
    "print(theta)\n",
    "\n"
   ]
  },
  {
   "cell_type": "code",
   "execution_count": 4,
   "id": "98d52de4-901d-442d-9952-669de688f95a",
   "metadata": {},
   "outputs": [
    {
     "name": "stdout",
     "output_type": "stream",
     "text": [
      "Linear model coefficients:\n",
      "Slope (a1): 1.0416197975253094\n",
      "Intercept (a0): 37.463442069741276\n",
      "\n",
      "Polynomial model coefficients:\n",
      "a3, a2, a1, a0: [ 0.00000000e+00  1.57135372e+01 -3.66067751e-01 -2.86182579e-04]\n"
     ]
    }
   ],
   "source": [
    "import numpy as np\n",
    "from sklearn.linear_model import LinearRegression\n",
    "from sklearn.preprocessing import PolynomialFeatures\n",
    "\n",
    "# Define the data\n",
    "X = np.array([15, 23, 18, 23, 24, 22, 22, 19, 19, 16]).reshape(-1, 1)\n",
    "Y = np.array([49, 63, 58, 60, 58, 61, 60, 63, 60, 52])\n",
    "\n",
    "\n",
    "linear_model = LinearRegression().fit(X, Y)\n",
    "\n",
    "print(\"Linear model coefficients:\")\n",
    "print(\"Slope (a1):\", linear_model.coef_[0])\n",
    "print(\"Intercept (a0):\", linear_model.intercept_)\n",
    "\n",
    "\n",
    "poly = PolynomialFeatures(degree=3)\n",
    "X_poly = poly.fit_transform(X)\n",
    "\n",
    "\n",
    "poly_model = LinearRegression().fit(X_poly, Y)\n",
    "\n",
    "\n",
    "print(\"\\nPolynomial model coefficients:\")\n",
    "print(\"a3, a2, a1, a0:\", poly_model.coef_)\n"
   ]
  },
  {
   "cell_type": "code",
   "execution_count": 5,
   "id": "1ae450cb-14ec-4201-8adb-472a0618bc24",
   "metadata": {},
   "outputs": [
    {
     "name": "stdout",
     "output_type": "stream",
     "text": [
      "Predicted sales: 718.2691255657235\n"
     ]
    }
   ],
   "source": [
    "import numpy as np\n",
    "import pandas as pd\n",
    "from sklearn.linear_model import LinearRegression\n",
    "\n",
    "# create a DataFrame from the data\n",
    "data = {'TV': [127.44, 135.76, 130.14, 127.24, 121.18, 132.29, 121.88, 144.59, 148.18, 119.17],\n",
    "        'Radio': [66.95, 56.75, 68.38, 74.05, 56.22, 64.40, 64.80, 64.31, 55.58, 73.82],\n",
    "        'Sales': [716.54, 660.01, 658.56, 679.68, 632.94, 751.38, 691.32, 732.85, 691.15, 693.58]}\n",
    "df = pd.DataFrame(data)\n",
    "\n",
    "# create a matrix of features (TV and Radio advertising expenses)\n",
    "X = df[['TV', 'Radio']].values\n",
    "\n",
    "# create a vector of target values (sales)\n",
    "y = df['Sales'].values\n",
    "\n",
    "# create a LinearRegression object\n",
    "model = LinearRegression()\n",
    "\n",
    "# fit the model to the data\n",
    "model.fit(X, y)\n",
    "\n",
    "# make predictions on new data\n",
    "X_new = np.array([[150, 60]]).reshape(1, -1)\n",
    "y_pred = model.predict(X_new)\n",
    "\n",
    "# print the predicted sales\n",
    "print('Predicted sales:', y_pred[0])"
   ]
  },
  {
   "cell_type": "code",
   "execution_count": null,
   "id": "5fc85dcb-8692-4cb7-a461-5d824c35bc86",
   "metadata": {},
   "outputs": [],
   "source": []
  }
 ],
 "metadata": {
  "kernelspec": {
   "display_name": "Python 3 (ipykernel)",
   "language": "python",
   "name": "python3"
  },
  "language_info": {
   "codemirror_mode": {
    "name": "ipython",
    "version": 3
   },
   "file_extension": ".py",
   "mimetype": "text/x-python",
   "name": "python",
   "nbconvert_exporter": "python",
   "pygments_lexer": "ipython3",
   "version": "3.11.7"
  }
 },
 "nbformat": 4,
 "nbformat_minor": 5
}

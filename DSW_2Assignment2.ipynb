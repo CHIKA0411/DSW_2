{
 "cells": [
  {
   "cell_type": "markdown",
   "id": "6233bb01-f09f-41ae-a1bc-91302e312996",
   "metadata": {},
   "source": [
    "## DSW_2 ASSIGNMENT-2 \n",
    "ONLY CODING QUESTIONS\n",
    "        \n",
    "        "
   ]
  },
  {
   "cell_type": "markdown",
   "id": "e8ad1d18-2523-4f23-9ff1-f7c511c48b84",
   "metadata": {},
   "source": [
    "4. Write a program\n",
    "a. To compute the mean, median and mode of a python list."
   ]
  },
  {
   "cell_type": "code",
   "execution_count": 21,
   "id": "13d13aa3-92a8-4d7a-bfbd-00656bbac83a",
   "metadata": {},
   "outputs": [
    {
     "ename": "TypeError",
     "evalue": "'numpy.ndarray' object is not callable",
     "output_type": "error",
     "traceback": [
      "\u001b[1;31m---------------------------------------------------------------------------\u001b[0m",
      "\u001b[1;31mTypeError\u001b[0m                                 Traceback (most recent call last)",
      "Cell \u001b[1;32mIn[21], line 2\u001b[0m\n\u001b[0;32m      1\u001b[0m \u001b[38;5;28mlist\u001b[39m\u001b[38;5;241m=\u001b[39m[\u001b[38;5;241m1\u001b[39m,\u001b[38;5;241m2\u001b[39m,\u001b[38;5;241m3\u001b[39m,\u001b[38;5;241m4\u001b[39m,\u001b[38;5;241m5\u001b[39m,\u001b[38;5;241m2\u001b[39m,\u001b[38;5;241m7\u001b[39m,\u001b[38;5;241m8\u001b[39m,\u001b[38;5;241m4\u001b[39m,\u001b[38;5;241m10\u001b[39m]\n\u001b[1;32m----> 2\u001b[0m mean\u001b[38;5;241m=\u001b[39m\u001b[38;5;28;43msum\u001b[39;49m\u001b[43m(\u001b[49m\u001b[38;5;28;43mlist\u001b[39;49m\u001b[43m)\u001b[49m\u001b[38;5;241m/\u001b[39m\u001b[38;5;28mlen\u001b[39m(\u001b[38;5;28mlist\u001b[39m)\n\u001b[0;32m      3\u001b[0m \u001b[38;5;28;01mdef\u001b[39;00m \u001b[38;5;21mabha_median\u001b[39m(\u001b[38;5;28mlist\u001b[39m):\n\u001b[0;32m      4\u001b[0m     n\u001b[38;5;241m=\u001b[39m\u001b[38;5;28mlen\u001b[39m(\u001b[38;5;28mlist\u001b[39m)\n",
      "\u001b[1;31mTypeError\u001b[0m: 'numpy.ndarray' object is not callable"
     ]
    }
   ],
   "source": [
    "list=[1,2,3,4,5,2,7,8,4,10]\n",
    "mean=sum(list)/len(list)\n",
    "def abha_median(list):\n",
    "    n=len(list)\n",
    "    if n%2==0:\n",
    "        mid_1=sorted(list)[n//2-1]\n",
    "        mid_2=sorted(list)[n//2]\n",
    "        return (mid_1+mid_2)/2\n",
    "    else:\n",
    "        return sorted(list)[n//2]\n",
    "def abha_mode(list):\n",
    "    count_dict = {}\n",
    "    for value in list:\n",
    "        count_dict[value] = count_dict.get(value, 0) + 1\n",
    "    max_count = max(count_dict.values())\n",
    "    modes = [value for value, count in count_dict.items() if count == max_count]\n",
    "    return modes\n",
    "print(f\"Mean of the given data set is {mean}\")\n",
    "print(f\"Median of the given data set is {abha_median(list)}\")\n",
    "print(f\"Mode of the given data set is {abha_mode(list)}\")"
   ]
  },
  {
   "cell_type": "markdown",
   "id": "c55b843d-d97c-448e-b5a3-6a791201dffb",
   "metadata": {},
   "source": [
    "1. To compute the variance and standrad deviation of a vector(list)."
   ]
  },
  {
   "cell_type": "code",
   "execution_count": 22,
   "id": "87659852-2af7-4e82-a4cf-a84522d0e08b",
   "metadata": {},
   "outputs": [
    {
     "ename": "TypeError",
     "evalue": "'numpy.ndarray' object is not callable",
     "output_type": "error",
     "traceback": [
      "\u001b[1;31m---------------------------------------------------------------------------\u001b[0m",
      "\u001b[1;31mTypeError\u001b[0m                                 Traceback (most recent call last)",
      "Cell \u001b[1;32mIn[22], line 8\u001b[0m\n\u001b[0;32m      6\u001b[0m     variance \u001b[38;5;241m=\u001b[39m compute_variance(\u001b[38;5;28mlist\u001b[39m)\n\u001b[0;32m      7\u001b[0m     \u001b[38;5;28;01mreturn\u001b[39;00m variance \u001b[38;5;241m*\u001b[39m\u001b[38;5;241m*\u001b[39m \u001b[38;5;241m0.5\u001b[39m\n\u001b[1;32m----> 8\u001b[0m \u001b[38;5;28mprint\u001b[39m(\u001b[38;5;124mf\u001b[39m\u001b[38;5;124m\"\u001b[39m\u001b[38;5;124mVariance: \u001b[39m\u001b[38;5;132;01m{\u001b[39;00m\u001b[43mcompute_variance\u001b[49m\u001b[43m(\u001b[49m\u001b[38;5;28;43mlist\u001b[39;49m\u001b[43m)\u001b[49m\u001b[38;5;132;01m}\u001b[39;00m\u001b[38;5;124m\"\u001b[39m)\n\u001b[0;32m      9\u001b[0m \u001b[38;5;28mprint\u001b[39m(\u001b[38;5;124mf\u001b[39m\u001b[38;5;124m\"\u001b[39m\u001b[38;5;124mStandard Deviation: \u001b[39m\u001b[38;5;132;01m{\u001b[39;00mcompute_standard_deviation(\u001b[38;5;28mlist\u001b[39m)\u001b[38;5;132;01m}\u001b[39;00m\u001b[38;5;124m\"\u001b[39m)\n",
      "Cell \u001b[1;32mIn[22], line 3\u001b[0m, in \u001b[0;36mcompute_variance\u001b[1;34m(list)\u001b[0m\n\u001b[0;32m      1\u001b[0m \u001b[38;5;28;01mdef\u001b[39;00m \u001b[38;5;21mcompute_variance\u001b[39m(\u001b[38;5;28mlist\u001b[39m):\n\u001b[0;32m      2\u001b[0m     s \u001b[38;5;241m=\u001b[39m [(x \u001b[38;5;241m-\u001b[39m mean) \u001b[38;5;241m*\u001b[39m\u001b[38;5;241m*\u001b[39m \u001b[38;5;241m2\u001b[39m \u001b[38;5;28;01mfor\u001b[39;00m x \u001b[38;5;129;01min\u001b[39;00m \u001b[38;5;28mlist\u001b[39m]\n\u001b[1;32m----> 3\u001b[0m     variance \u001b[38;5;241m=\u001b[39m \u001b[38;5;28;43msum\u001b[39;49m\u001b[43m(\u001b[49m\u001b[43ms\u001b[49m\u001b[43m)\u001b[49m \u001b[38;5;241m/\u001b[39m \u001b[38;5;28mlen\u001b[39m(\u001b[38;5;28mlist\u001b[39m)\n\u001b[0;32m      4\u001b[0m     \u001b[38;5;28;01mreturn\u001b[39;00m variance\n",
      "\u001b[1;31mTypeError\u001b[0m: 'numpy.ndarray' object is not callable"
     ]
    }
   ],
   "source": [
    "def compute_variance(list):\n",
    "    s = [(x - mean) ** 2 for x in list]\n",
    "    variance = sum(s) / len(list)\n",
    "    return variance\n",
    "def compute_standard_deviation(list):\n",
    "    variance = compute_variance(list)\n",
    "    return variance ** 0.5\n",
    "print(f\"Variance: {compute_variance(list)}\")\n",
    "print(f\"Standard Deviation: {compute_standard_deviation(list)}\")\n"
   ]
  },
  {
   "cell_type": "markdown",
   "id": "def348a0-8c3c-4937-a0c8-195155c76864",
   "metadata": {},
   "source": [
    "2. To compute the covariance and correlation between two vectors(list)."
   ]
  },
  {
   "cell_type": "code",
   "execution_count": 23,
   "id": "385f1f22-9e38-4e8c-8d9b-18d2a39fb582",
   "metadata": {},
   "outputs": [
    {
     "ename": "TypeError",
     "evalue": "'numpy.ndarray' object is not callable",
     "output_type": "error",
     "traceback": [
      "\u001b[1;31m---------------------------------------------------------------------------\u001b[0m",
      "\u001b[1;31mTypeError\u001b[0m                                 Traceback (most recent call last)",
      "Cell \u001b[1;32mIn[23], line 15\u001b[0m\n\u001b[0;32m     13\u001b[0m vector1 \u001b[38;5;241m=\u001b[39m [\u001b[38;5;241m12\u001b[39m, \u001b[38;5;241m40\u001b[39m, \u001b[38;5;241m69\u001b[39m, \u001b[38;5;241m48\u001b[39m, \u001b[38;5;241m10\u001b[39m]\n\u001b[0;32m     14\u001b[0m vector2 \u001b[38;5;241m=\u001b[39m [\u001b[38;5;241m19\u001b[39m, \u001b[38;5;241m13\u001b[39m, \u001b[38;5;241m25\u001b[39m, \u001b[38;5;241m37\u001b[39m, \u001b[38;5;241m49\u001b[39m]\n\u001b[1;32m---> 15\u001b[0m mean_1\u001b[38;5;241m=\u001b[39m\u001b[38;5;28;43msum\u001b[39;49m\u001b[43m(\u001b[49m\u001b[43mvector1\u001b[49m\u001b[43m)\u001b[49m\u001b[38;5;241m/\u001b[39m\u001b[38;5;28mlen\u001b[39m(vector1)\n\u001b[0;32m     16\u001b[0m mean_2\u001b[38;5;241m=\u001b[39m\u001b[38;5;28msum\u001b[39m(vector2)\u001b[38;5;241m/\u001b[39m\u001b[38;5;28mlen\u001b[39m(vector2)\n\u001b[0;32m     17\u001b[0m \u001b[38;5;28mprint\u001b[39m(\u001b[38;5;124mf\u001b[39m\u001b[38;5;124m\"\u001b[39m\u001b[38;5;124mCovariance: \u001b[39m\u001b[38;5;132;01m{\u001b[39;00mcompute_covariance(vector1,\u001b[38;5;250m \u001b[39mvector2)\u001b[38;5;132;01m}\u001b[39;00m\u001b[38;5;124m\"\u001b[39m)\n",
      "\u001b[1;31mTypeError\u001b[0m: 'numpy.ndarray' object is not callable"
     ]
    }
   ],
   "source": [
    "def compute_covariance(list_1, list_2):\n",
    "    cov_sum = sum((x - mean_1) * (y - mean_2) for x, y in zip(list_1, list_2))\n",
    "    covariance = cov_sum / len(list_1)\n",
    "    return covariance\n",
    "\n",
    "def compute_correlation(list_1, list_2):\n",
    "    cov = compute_covariance(list_1, list_2)\n",
    "    std1, std2 = compute_standard_deviation(list_1), compute_standard_deviation(list_2)\n",
    "    correlation = cov / (std1 * std2)\n",
    "    return correlation\n",
    "\n",
    "# Example usage:\n",
    "vector1 = [12, 40, 69, 48, 10]\n",
    "vector2 = [19, 13, 25, 37, 49]\n",
    "mean_1=sum(vector1)/len(vector1)\n",
    "mean_2=sum(vector2)/len(vector2)\n",
    "print(f\"Covariance: {compute_covariance(vector1, vector2)}\")\n",
    "print(f\"Correlation: {compute_correlation(vector1, vector2)}\")\n"
   ]
  },
  {
   "cell_type": "markdown",
   "id": "63cc0759-ced0-463b-8b94-c6e6a51ae4b6",
   "metadata": {},
   "source": [
    "5. State central limit theorem. Demonstrate CLT with an example. Use python programming for the\n",
    "following steps. Consider a population which satisfies binomial distribution. Draw random samples\n",
    "from the population, find each sample mean. What can you say about the list containing sample\n",
    "means"
   ]
  },
  {
   "cell_type": "code",
   "execution_count": 24,
   "id": "59568d55-e3a6-4cb3-bfe5-003c2033e1e2",
   "metadata": {},
   "outputs": [
    {
     "name": "stdout",
     "output_type": "stream",
     "text": [
      "Mean of sample means: 0.6011333333333333\n",
      "Standard deviation of sample means: 0.08892471222581742\n"
     ]
    }
   ],
   "source": [
    "import numpy as np\n",
    "\n",
    "population_size = 1000 \n",
    "p_success = 0.6         \n",
    "sample_size = 30        \n",
    "num_samples = 1000     \n",
    "\n",
    "\n",
    "population = np.random.choice([0, 1], size=population_size, p=[1 - p_success, p_success])\n",
    "sample_means = []\n",
    "for _ in range(num_samples):\n",
    "    sample = np.random.choice(population, size=sample_size, replace=True)\n",
    "    sample_mean = np.mean(sample)\n",
    "    sample_means.append(sample_mean)\n",
    "\n",
    "\n",
    "print(f\"Mean of sample means: {np.mean(sample_means)}\")\n",
    "print(f\"Standard deviation of sample means: {np.std(sample_means)}\")\n"
   ]
  },
  {
   "cell_type": "markdown",
   "id": "38c9a2f0-8603-4848-9a05-3924381f8f0c",
   "metadata": {},
   "source": [
    "9. Consider two vectors of length n(input from the user). Take the vectors as input from the user. Write\n",
    "a python program to find the\n",
    "a. It’s dot product\n",
    "b. Distance between two vectors.\n",
    "c. Sum of the two vectors.\n",
    "d. Normalize a vector\n"
   ]
  },
  {
   "cell_type": "markdown",
   "id": "361e24c7-0866-433f-a3a1-3f27314b2437",
   "metadata": {},
   "source": [
    "a. It’s dot product"
   ]
  },
  {
   "cell_type": "code",
   "execution_count": null,
   "id": "e49ba1c1-1fd5-42e8-9cb5-0bd20a58a8d1",
   "metadata": {},
   "outputs": [
    {
     "name": "stdout",
     "output_type": "stream",
     "text": [
      "Enter the first vector:\n"
     ]
    }
   ],
   "source": [
    "import numpy as np\n",
    "\n",
    "def get_vector():\n",
    "    n = int(input(\"Enter the length of the vector: \"))\n",
    "    vector = []\n",
    "    for i in range(n):\n",
    "        value = float(input(f\"Enter element {i+1}: \"))\n",
    "        vector.append(value)\n",
    "    return np.array(vector)\n",
    "print(\"Enter the first vector:\")\n",
    "vector1 = get_vector()\n",
    "\n",
    "print(\"\\nEnter the second vector:\")\n",
    "vector2 = get_vector()"
   ]
  },
  {
   "cell_type": "code",
   "execution_count": 15,
   "id": "b5158fb7-838b-4fec-8768-d2ceea1f7e96",
   "metadata": {},
   "outputs": [
    {
     "name": "stdout",
     "output_type": "stream",
     "text": [
      "107.0\n"
     ]
    }
   ],
   "source": [
    "dot_product=np.dot(vector1, vector2)\n",
    "print(dot_product)"
   ]
  },
  {
   "cell_type": "markdown",
   "id": "830be302-a79c-460d-bc12-d4f505c03e8e",
   "metadata": {},
   "source": [
    "b. Distance between two vectors."
   ]
  },
  {
   "cell_type": "code",
   "execution_count": 16,
   "id": "c281774a-eaab-4c2d-8de7-44ba572add30",
   "metadata": {},
   "outputs": [
    {
     "name": "stdout",
     "output_type": "stream",
     "text": [
      "7.211102550927978\n"
     ]
    }
   ],
   "source": [
    "distance=np.linalg.norm(vector1 - vector2)\n",
    "print(distance)"
   ]
  },
  {
   "cell_type": "markdown",
   "id": "710c49c0-c347-4196-9acb-8b558ba22986",
   "metadata": {},
   "source": [
    "c. Sum of the two vectors."
   ]
  },
  {
   "cell_type": "code",
   "execution_count": 17,
   "id": "b85052d3-3450-42c0-b58a-9bf017682ea9",
   "metadata": {},
   "outputs": [
    {
     "name": "stdout",
     "output_type": "stream",
     "text": [
      "[ 2.  6. 10. 12. 14.]\n"
     ]
    }
   ],
   "source": [
    "sum=vector1+vector2\n",
    "print(sum)"
   ]
  },
  {
   "cell_type": "markdown",
   "id": "94c7494d-10f6-4f80-90a8-f0f36ee2fdeb",
   "metadata": {},
   "source": [
    "d. Normalize a vector"
   ]
  },
  {
   "cell_type": "code",
   "execution_count": 19,
   "id": "a8df771c-ea6c-4d4d-9b3c-a4f338841472",
   "metadata": {},
   "outputs": [
    {
     "name": "stdout",
     "output_type": "stream",
     "text": [
      "Normalized vector 1: [0.13483997 0.26967994 0.40451992 0.53935989 0.67419986]\n",
      "Normalized vector 2: [0.06884284 0.27537136 0.48189987 0.55074271 0.61958555]\n"
     ]
    }
   ],
   "source": [
    "def normalize_vector(v):\n",
    "    norm = np.linalg.norm(v)\n",
    "    if norm == 0:\n",
    "        return v\n",
    "    return v / norm\n",
    "print(f\"Normalized vector 1: {normalize_vector(vector1)}\")\n",
    "print(f\"Normalized vector 2: {normalize_vector(vector2)}\")\n"
   ]
  },
  {
   "cell_type": "markdown",
   "id": "5ff96031-ffa3-4bed-8ce7-18dabae73660",
   "metadata": {},
   "source": [
    "10. Take two 2 × 2 matrices as user input. Write a python program to find the sum of the two matrices."
   ]
  },
  {
   "cell_type": "code",
   "execution_count": 20,
   "id": "09138ba9-367b-4fa7-8b45-aab861da73a7",
   "metadata": {},
   "outputs": [
    {
     "name": "stdout",
     "output_type": "stream",
     "text": [
      "Enter the first matrix:\n",
      "Enter the elements of the matrix (row by row):\n"
     ]
    },
    {
     "name": "stdin",
     "output_type": "stream",
     "text": [
      "Enter element 1:  2\n",
      "Enter element 2:  5\n",
      "Enter element 1:  3\n",
      "Enter element 2:  7\n"
     ]
    },
    {
     "name": "stdout",
     "output_type": "stream",
     "text": [
      "\n",
      "Enter the second matrix:\n",
      "Enter the elements of the matrix (row by row):\n"
     ]
    },
    {
     "name": "stdin",
     "output_type": "stream",
     "text": [
      "Enter element 1:  1\n",
      "Enter element 2:  4\n",
      "Enter element 1:  8\n",
      "Enter element 2:  9\n"
     ]
    },
    {
     "name": "stdout",
     "output_type": "stream",
     "text": [
      "\n",
      "Sum of the matrices:\n",
      "[3.0, 9.0]\n",
      "[11.0, 16.0]\n"
     ]
    }
   ],
   "source": [
    "def get_matrix():\n",
    "    matrix = []\n",
    "    print(\"Enter the elements of the matrix (row by row):\")\n",
    "    for _ in range(2):\n",
    "        row = [float(input(f\"Enter element {i+1}: \")) for i in range(2)]\n",
    "        matrix.append(row)\n",
    "    return matrix\n",
    "\n",
    "def add_matrices(matrix1, matrix2):\n",
    "    result_matrix = [[0, 0], [0, 0]]\n",
    "    for i in range(2):\n",
    "        for j in range(2):\n",
    "            result_matrix[i][j] = matrix1[i][j] + matrix2[i][j]\n",
    "    return result_matrix\n",
    "\n",
    "# Get input matrices from the user\n",
    "print(\"Enter the first matrix:\")\n",
    "matrix1 = get_matrix()\n",
    "\n",
    "print(\"\\nEnter the second matrix:\")\n",
    "matrix2 = get_matrix()\n",
    "\n",
    "# Compute the sum of matrices\n",
    "sum_matrix = add_matrices(matrix1, matrix2)\n",
    "\n",
    "# Display the result\n",
    "print(\"\\nSum of the matrices:\")\n",
    "for row in sum_matrix:\n",
    "    print(row)\n"
   ]
  },
  {
   "cell_type": "code",
   "execution_count": null,
   "id": "f70713f3-0a80-4f12-9033-583987016741",
   "metadata": {},
   "outputs": [],
   "source": []
  }
 ],
 "metadata": {
  "kernelspec": {
   "display_name": "Python 3 (ipykernel)",
   "language": "python",
   "name": "python3"
  },
  "language_info": {
   "codemirror_mode": {
    "name": "ipython",
    "version": 3
   },
   "file_extension": ".py",
   "mimetype": "text/x-python",
   "name": "python",
   "nbconvert_exporter": "python",
   "pygments_lexer": "ipython3",
   "version": "3.11.7"
  }
 },
 "nbformat": 4,
 "nbformat_minor": 5
}
